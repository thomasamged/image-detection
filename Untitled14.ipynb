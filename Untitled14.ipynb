{
  "nbformat": 4,
  "nbformat_minor": 0,
  "metadata": {
    "colab": {
      "provenance": [],
      "authorship_tag": "ABX9TyOIG8UW5K+P43zKV+TKlvvQ",
      "include_colab_link": true
    },
    "kernelspec": {
      "name": "python3",
      "display_name": "Python 3"
    },
    "language_info": {
      "name": "python"
    }
  },
  "cells": [
    {
      "cell_type": "markdown",
      "metadata": {
        "id": "view-in-github",
        "colab_type": "text"
      },
      "source": [
        "<a href=\"https://colab.research.google.com/github/thomasamged/image-detection/blob/main/Untitled14.ipynb\" target=\"_parent\"><img src=\"https://colab.research.google.com/assets/colab-badge.svg\" alt=\"Open In Colab\"/></a>"
      ]
    },
    {
      "cell_type": "code",
      "source": [
        "\"pip install streamlit\""
      ],
      "metadata": {
        "colab": {
          "base_uri": "https://localhost:8080/",
          "height": 55
        },
        "id": "ynmZzcUiXCNU",
        "outputId": "bcd16ab8-a4e5-4538-c067-6a9f91bc77be"
      },
      "execution_count": 10,
      "outputs": [
        {
          "output_type": "execute_result",
          "data": {
            "text/plain": [
              "'pip install streamlit'"
            ],
            "application/vnd.google.colaboratory.intrinsic+json": {
              "type": "string"
            }
          },
          "metadata": {},
          "execution_count": 10
        }
      ]
    },
    {
      "cell_type": "code",
      "source": [
        "!wget -q -O - ipv4.icanhazip.com"
      ],
      "metadata": {
        "colab": {
          "base_uri": "https://localhost:8080/"
        },
        "id": "mqvGPZDYXt5i",
        "outputId": "33fb327a-3d4f-4405-9b9d-d3ea8a12f8cf"
      },
      "execution_count": 16,
      "outputs": [
        {
          "output_type": "stream",
          "name": "stdout",
          "text": [
            "34.139.220.155\n"
          ]
        }
      ]
    },
    {
      "cell_type": "code",
      "source": [
        "%%writefile app.py\n",
        "import streamlit as st\n",
        "from PIL import Image\n",
        "import os\n",
        "import tempfile\n",
        "import cv2\n",
        "import numpy as np\n",
        "import torch\n",
        "from torchvision.transforms import ToTensor\n",
        "model = torch.hub.load('ultralytics/yolov5', 'yolov5s')\n",
        "def detect_objects(image):\n",
        "    results = model(image)\n",
        "    classes = results.xyxy[0][:, 5].int()\n",
        "    object_names = [results.names[int(c)] for c in classes]\n",
        "    return list(set(object_names))\n",
        "\n",
        "\n",
        "st.title(\"Image Component Detection\")\n",
        "\n",
        "uploaded_file = st.file_uploader(\"Choose an image file\", type=\"jpg\")\n",
        "\n",
        "if uploaded_file is not None:\n",
        "\n",
        "    image = Image.open(uploaded_file)\n",
        "\n",
        "\n",
        "    st.image(image, caption='Uploaded Image', use_column_width=True)\n",
        "\n",
        "    if st.button(\"Analyse Image\"):\n",
        "\n",
        "        with tempfile.NamedTemporaryFile(delete=False, suffix=\".jpg\") as temp_file:\n",
        "\n",
        "            image.save(temp_file.name)\n",
        "\n",
        "\n",
        "            img = cv2.imread(temp_file.name)\n",
        "\n",
        "\n",
        "            object_names = detect_objects(img)\n",
        "\n",
        "\n",
        "            st.subheader(\"Detected Objects:\")\n",
        "            for name in object_names:\n",
        "                st.write(f\"- {name}\")\n",
        "\n",
        "            os.remove(temp_file.name)"
      ],
      "metadata": {
        "colab": {
          "base_uri": "https://localhost:8080/"
        },
        "id": "HGQVxAHCWxP1",
        "outputId": "1bc17093-d6b2-4f19-db52-08e65a81e160"
      },
      "execution_count": 18,
      "outputs": [
        {
          "output_type": "stream",
          "name": "stdout",
          "text": [
            "Overwriting app.py\n"
          ]
        }
      ]
    },
    {
      "cell_type": "code",
      "source": [
        "!streamlit run app.py & npx localtunnel --port 8501"
      ],
      "metadata": {
        "colab": {
          "base_uri": "https://localhost:8080/"
        },
        "id": "wSLwJa5cXF-_",
        "outputId": "e18a4193-678c-4b8a-a42f-13ce4670fdc2"
      },
      "execution_count": 20,
      "outputs": [
        {
          "output_type": "stream",
          "name": "stdout",
          "text": [
            "\n",
            "Collecting usage statistics. To deactivate, set browser.gatherUsageStats to false.\n",
            "\u001b[0m\n",
            "\u001b[0m\n",
            "\u001b[34m\u001b[1m  You can now view your Streamlit app in your browser.\u001b[0m\n",
            "\u001b[0m\n",
            "\u001b[34m  Local URL: \u001b[0m\u001b[1mhttp://localhost:8501\u001b[0m\n",
            "\u001b[34m  Network URL: \u001b[0m\u001b[1mhttp://172.28.0.12:8501\u001b[0m\n",
            "\u001b[34m  External URL: \u001b[0m\u001b[1mhttp://34.139.220.155:8501\u001b[0m\n",
            "\u001b[0m\n",
            "\u001b[K\u001b[?25hnpx: installed 22 in 3.763s\n",
            "your url is: https://fuzzy-colts-press.loca.lt\n",
            "\u001b[34m  Stopping...\u001b[0m\n",
            "^C\n"
          ]
        }
      ]
    }
  ]
}